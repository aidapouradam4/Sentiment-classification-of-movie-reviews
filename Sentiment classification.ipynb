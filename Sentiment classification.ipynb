{
 "cells": [
  {
   "cell_type": "markdown",
   "id": "e24a5649",
   "metadata": {},
   "source": [
    "### Task 1 - Data Loading and data Preparation"
   ]
  },
  {
   "cell_type": "code",
   "execution_count": 1,
   "id": "8226c288",
   "metadata": {},
   "outputs": [
    {
     "name": "stdout",
     "output_type": "stream",
     "text": [
      "          0      1\n",
      "0     False  False\n",
      "1     False  False\n",
      "2     False  False\n",
      "3     False  False\n",
      "4     False  False\n",
      "...     ...    ...\n",
      "2395  False  False\n",
      "2396  False  False\n",
      "2397  False  False\n",
      "2398  False  False\n",
      "2399  False  False\n",
      "\n",
      "[2400 rows x 2 columns]\n",
      "          0\n",
      "0     False\n",
      "1     False\n",
      "2     False\n",
      "3     False\n",
      "4     False\n",
      "...     ...\n",
      "2395  False\n",
      "2396  False\n",
      "2397  False\n",
      "2398  False\n",
      "2399  False\n",
      "\n",
      "[2400 rows x 1 columns]\n",
      "         0      1\n",
      "0    False  False\n",
      "1    False  False\n",
      "2    False  False\n",
      "3    False  False\n",
      "4    False  False\n",
      "..     ...    ...\n",
      "595  False  False\n",
      "596  False  False\n",
      "597  False  False\n",
      "598  False  False\n",
      "599  False  False\n",
      "\n",
      "[600 rows x 2 columns]\n",
      "         0\n",
      "0    False\n",
      "1    False\n",
      "2    False\n",
      "3    False\n",
      "4    False\n",
      "..     ...\n",
      "595  False\n",
      "596  False\n",
      "597  False\n",
      "598  False\n",
      "599  False\n",
      "\n",
      "[600 rows x 1 columns]\n",
      "(2400, 2)\n",
      "(2400, 1)\n"
     ]
    },
    {
     "data": {
      "text/html": [
       "<div>\n",
       "<style scoped>\n",
       "    .dataframe tbody tr th:only-of-type {\n",
       "        vertical-align: middle;\n",
       "    }\n",
       "\n",
       "    .dataframe tbody tr th {\n",
       "        vertical-align: top;\n",
       "    }\n",
       "\n",
       "    .dataframe thead th {\n",
       "        text-align: right;\n",
       "    }\n",
       "</style>\n",
       "<table border=\"1\" class=\"dataframe\">\n",
       "  <thead>\n",
       "    <tr style=\"text-align: right;\">\n",
       "      <th></th>\n",
       "      <th>0</th>\n",
       "      <th>1</th>\n",
       "    </tr>\n",
       "  </thead>\n",
       "  <tbody>\n",
       "    <tr>\n",
       "      <th>0</th>\n",
       "      <td>amazon</td>\n",
       "      <td>Oh and I forgot to also mention the weird colo...</td>\n",
       "    </tr>\n",
       "    <tr>\n",
       "      <th>1</th>\n",
       "      <td>amazon</td>\n",
       "      <td>THAT one didn't work either.</td>\n",
       "    </tr>\n",
       "    <tr>\n",
       "      <th>2</th>\n",
       "      <td>amazon</td>\n",
       "      <td>Waste of 13 bucks.</td>\n",
       "    </tr>\n",
       "    <tr>\n",
       "      <th>3</th>\n",
       "      <td>amazon</td>\n",
       "      <td>Product is useless, since it does not have eno...</td>\n",
       "    </tr>\n",
       "    <tr>\n",
       "      <th>4</th>\n",
       "      <td>amazon</td>\n",
       "      <td>None of the three sizes they sent with the hea...</td>\n",
       "    </tr>\n",
       "    <tr>\n",
       "      <th>...</th>\n",
       "      <td>...</td>\n",
       "      <td>...</td>\n",
       "    </tr>\n",
       "    <tr>\n",
       "      <th>2395</th>\n",
       "      <td>yelp</td>\n",
       "      <td>The sweet potato fries were very good and seas...</td>\n",
       "    </tr>\n",
       "    <tr>\n",
       "      <th>2396</th>\n",
       "      <td>yelp</td>\n",
       "      <td>I could eat their bruschetta all day it is dev...</td>\n",
       "    </tr>\n",
       "    <tr>\n",
       "      <th>2397</th>\n",
       "      <td>yelp</td>\n",
       "      <td>Ambience is perfect.</td>\n",
       "    </tr>\n",
       "    <tr>\n",
       "      <th>2398</th>\n",
       "      <td>yelp</td>\n",
       "      <td>We ordered the duck rare and it was pink and t...</td>\n",
       "    </tr>\n",
       "    <tr>\n",
       "      <th>2399</th>\n",
       "      <td>yelp</td>\n",
       "      <td>Service was good and the company was better!</td>\n",
       "    </tr>\n",
       "  </tbody>\n",
       "</table>\n",
       "<p>2400 rows × 2 columns</p>\n",
       "</div>"
      ],
      "text/plain": [
       "           0                                                  1\n",
       "0     amazon  Oh and I forgot to also mention the weird colo...\n",
       "1     amazon                       THAT one didn't work either.\n",
       "2     amazon                                 Waste of 13 bucks.\n",
       "3     amazon  Product is useless, since it does not have eno...\n",
       "4     amazon  None of the three sizes they sent with the hea...\n",
       "...      ...                                                ...\n",
       "2395    yelp  The sweet potato fries were very good and seas...\n",
       "2396    yelp  I could eat their bruschetta all day it is dev...\n",
       "2397    yelp                               Ambience is perfect.\n",
       "2398    yelp  We ordered the duck rare and it was pink and t...\n",
       "2399    yelp       Service was good and the company was better!\n",
       "\n",
       "[2400 rows x 2 columns]"
      ]
     },
     "execution_count": 1,
     "metadata": {},
     "output_type": "execute_result"
    }
   ],
   "source": [
    "#Read data by pandas library\n",
    "import pandas as pd\n",
    "X_train = pd.read_csv('x_train.csv', header=None)\n",
    "y_train =pd.read_csv('y_train.csv', header=None)\n",
    "X_test = pd.read_csv('x_test.csv', header=None)\n",
    "y_test = pd.read_csv('y_test.csv', header=None)\n",
    "\n",
    "\n",
    "# check for null values\n",
    "null_values_X_train = X_train.isnull()\n",
    "null_values_y_train = y_train.isnull()\n",
    "null_values_X_test = X_test.isnull()\n",
    "null_values_y_test = y_test.isnull()\n",
    "print(null_values_X_train)\n",
    "print(null_values_y_train)\n",
    "print(null_values_X_test)\n",
    "print(null_values_y_test)\n",
    "\n",
    "# select rows that contain the substring '#NAME?' in any column of the X_train DataFrame\n",
    "X_train[X_train.apply(lambda row: row.astype(str).str.contains('#NAME?', na=False).any(), axis=1)]\n",
    "\n",
    "# select rows that contain the substring '#NAME?' in any column of the y_train DataFrame\n",
    "y_train[y_train.apply(lambda row: row.astype(str).str.contains('#NAME?', na=False).any(), axis=1)]\n",
    "\n",
    "# select rows that contain the substring '#NAME?' in any column of the X_test DataFrame\n",
    "X_test[X_test.apply(lambda row: row.astype(str).str.contains('#NAME?', na=False).any(), axis=1)]\n",
    "\n",
    "# select rows that contain the substring '#NAME?' in any column of the X_test DataFrame\n",
    "y_test[y_test.apply(lambda row: row.astype(str).str.contains('#NAME?', na=False).any(), axis=1)]\n",
    "\n",
    "# Merge the datasets horizontally\n",
    "train_data = pd.concat([X_train, y_train], axis=1)\n",
    "test_data = pd.concat([X_test, y_test], axis=1)\n",
    "\n",
    "print(X_train.shape)\n",
    "print(y_train.shape)\n",
    "X_train"
   ]
  },
  {
   "cell_type": "markdown",
   "id": "6f3423bc",
   "metadata": {},
   "source": [
    "### Task 2 - Feature Representation"
   ]
  },
  {
   "cell_type": "code",
   "execution_count": 2,
   "id": "646b766f",
   "metadata": {},
   "outputs": [
    {
     "name": "stderr",
     "output_type": "stream",
     "text": [
      "[nltk_data] Downloading package stopwords to\n",
      "[nltk_data]     C:\\Users\\User\\AppData\\Roaming\\nltk_data...\n",
      "[nltk_data]   Package stopwords is already up-to-date!\n"
     ]
    },
    {
     "name": "stdout",
     "output_type": "stream",
     "text": [
      "Vocabulary size: 2858\n",
      "Feature matrix shape for train set: (2160, 2858)\n",
      "Feature matrix shape for test set: (600, 2858)\n"
     ]
    }
   ],
   "source": [
    "import re\n",
    "import nltk\n",
    "from nltk.corpus import stopwords\n",
    "from nltk.stem import SnowballStemmer\n",
    "from textblob import TextBlob\n",
    "\n",
    "# download necessary stopwords and stemmer\n",
    "nltk.download(\"stopwords\")\n",
    "stemmer = SnowballStemmer(\"english\")\n",
    "\n",
    "def preprocess_text(text):\n",
    "    # remove non-alphabetic characters\n",
    "    text = re.sub(\"[^a-zA-Z]\", \" \", text)\n",
    "\n",
    "    # convert to lowercase\n",
    "    text = text.lower()\n",
    "\n",
    "    # correct spelling errors\n",
    "    text = str(TextBlob(text).correct())\n",
    "\n",
    "    # remove stopwords and perform stemming\n",
    "    words = text.split()\n",
    "    words = [stemmer.stem(word) for word in words if word not in set(stopwords.words(\"english\"))]\n",
    "    text = \" \".join(words)\n",
    "\n",
    "    return text\n",
    "\n",
    "# apply preprocess function on the second column\n",
    "X_train = X_train[1].apply(preprocess_text)\n",
    "X_test = X_test[1].apply(preprocess_text)\n",
    "\n",
    "from sklearn.model_selection import train_test_split\n",
    "# split X_train into a 90% training set and a 10% validation set\n",
    "X_train, X_val, y_train, y_val = train_test_split(X_train, y_train, test_size=0.1, random_state=42)\n",
    "\n",
    "# Feature Extraction\n",
    "from sklearn.feature_extraction.text import CountVectorizer\n",
    "import numpy as np\n",
    "\n",
    "# define the bag-of-words feature representation\n",
    "vectorizer = CountVectorizer(min_df=1)\n",
    "\n",
    "# fit the vectorizer to the datasets and transform the datasets\n",
    "X_train = vectorizer.fit_transform(X_train)\n",
    "X_val = vectorizer.transform(X_val)\n",
    "X_test = vectorizer.transform(X_test)\n",
    "\n",
    "\n",
    "# get the vocabulary size\n",
    "vocab_size = len(vectorizer.vocabulary_)\n",
    "\n",
    "print(\"Vocabulary size:\", vocab_size)\n",
    "print(\"Feature matrix shape for train set:\", X_train.shape)\n",
    "print(\"Feature matrix shape for test set:\", X_test.shape)"
   ]
  },
  {
   "cell_type": "code",
   "execution_count": 3,
   "id": "4b02c1c8",
   "metadata": {},
   "outputs": [],
   "source": [
    "import warnings\n",
    "warnings.filterwarnings(\"ignore\")"
   ]
  },
  {
   "cell_type": "markdown",
   "id": "811aed4e",
   "metadata": {},
   "source": [
    "### Task 3 - Classification and Evaluation"
   ]
  },
  {
   "cell_type": "code",
   "execution_count": 4,
   "id": "26cfc03e",
   "metadata": {},
   "outputs": [
    {
     "name": "stdout",
     "output_type": "stream",
     "text": [
      "Logistic Regression - Validation: accuracy=0.775, precision=0.780, recall=0.780, f1_score=0.780\n",
      "Logistic Regression - Test: accuracy=0.787, precision=0.803, recall=0.760, f1_score=0.781\n",
      "\n",
      "Logistic Regression - validation confusion matrix:\n",
      "[[90 27]\n",
      " [27 96]]\n",
      "Logistic Regression - test Confusion matrix:\n",
      "[[244  56]\n",
      " [ 72 228]]\n",
      "Multinomial Naive Bayes - Validation: accuracy=0.804, precision=0.802, recall=0.821, f1_score=0.811\n",
      "Multinomial Naive Bayes - Test: accuracy=0.793, precision=0.788, recall=0.803, f1_score=0.795\n",
      "\n",
      "Multinomial Naive Bayes - validation confusion matrix:\n",
      "[[ 92  25]\n",
      " [ 22 101]]\n",
      "Multinomial Naive Bayes - test Confusion matrix:\n",
      "[[235  65]\n",
      " [ 59 241]]\n",
      "Support Vector Machine - Validation: accuracy=0.787, precision=0.840, recall=0.724, f1_score=0.777\n",
      "Support Vector Machine - Test: accuracy=0.758, precision=0.811, recall=0.673, f1_score=0.736\n",
      "\n",
      "Support Vector Machine - validation confusion matrix:\n",
      "[[100  17]\n",
      " [ 34  89]]\n",
      "Support Vector Machine - test Confusion matrix:\n",
      "[[253  47]\n",
      " [ 98 202]]\n",
      "Random Forest - Validation: accuracy=0.796, precision=0.843, recall=0.740, f1_score=0.788\n",
      "Random Forest - Test: accuracy=0.773, precision=0.847, recall=0.667, f1_score=0.746\n",
      "\n",
      "Random Forest - validation confusion matrix:\n",
      "[[100  17]\n",
      " [ 32  91]]\n",
      "Random Forest - test Confusion matrix:\n",
      "[[264  36]\n",
      " [100 200]]\n"
     ]
    }
   ],
   "source": [
    "from sklearn.metrics import accuracy_score\n",
    "from sklearn.linear_model import LogisticRegression\n",
    "from sklearn.svm import SVC\n",
    "from sklearn.ensemble import RandomForestClassifier\n",
    "from sklearn.naive_bayes import MultinomialNB\n",
    "from sklearn.model_selection import GridSearchCV\n",
    "\n",
    "# define the models and their hyperparameters\n",
    "models = [{'name':'Logistic Regression', 'estimator': LogisticRegression(), 'hyperparameters':{'penalty': ['l1', 'l2'],\n",
    "            'C': [0.1, 1, 10]\n",
    "        }\n",
    "    },\n",
    "    {   'name': 'Multinomial Naive Bayes',\n",
    "        'estimator': MultinomialNB(),\n",
    "        'hyperparameters': {\n",
    "            'alpha': [0.1, 1, 10]\n",
    "        }\n",
    "    },\n",
    "    {\n",
    "        'name': 'Support Vector Machine',\n",
    "        'estimator': SVC(),\n",
    "        'hyperparameters': {\n",
    "            'kernel': ['linear', 'rbf'],\n",
    "            'C': [0.1, 1, 10]\n",
    "        }\n",
    "    },\n",
    "    {\n",
    "        'name': 'Random Forest',\n",
    "        'estimator': RandomForestClassifier(),\n",
    "        'hyperparameters': {\n",
    "            'n_estimators': [10, 50, 100],\n",
    "            'max_depth': [None, 5, 10]\n",
    "        }\n",
    "    }\n",
    "]\n",
    "\n",
    "# hyperparameter tuning and evaluation\n",
    "cv_results = []\n",
    "for model in models:\n",
    "    grid = GridSearchCV(\n",
    "        estimator=model['estimator'], \n",
    "        param_grid=model['hyperparameters'], \n",
    "        cv=3, \n",
    "        scoring='accuracy'\n",
    "    )\n",
    "    grid.fit(X_train, y_train)\n",
    "    cv_results.append((model['name'], grid.best_params_, grid.best_score_))\n",
    "\n",
    "# Model evaluation\n",
    "from sklearn.metrics import confusion_matrix, accuracy_score, precision_score, recall_score, f1_score\n",
    "\n",
    "# evaluate the models on the validation and test sets\n",
    "for model in models:\n",
    "    i = models.index(model)\n",
    "    model['estimator'].set_params(**cv_results[i][1])\n",
    "    model['estimator'].fit(X_train, y_train)\n",
    "    y_pred_val = model['estimator'].predict(X_val)\n",
    "    y_pred_test = model['estimator'].predict(X_test)\n",
    "\n",
    "    # calculate evaluation metrics\n",
    "    # evaluation on valitation set\n",
    "    accuracy_val = accuracy_score(y_val, y_pred_val)\n",
    "    precision_val = precision_score(y_val, y_pred_val)\n",
    "    recall_val = recall_score(y_val, y_pred_val)\n",
    "    f1_val = f1_score(y_val, y_pred_val)\n",
    "    cm_val = confusion_matrix(y_val, y_pred_val)\n",
    "\n",
    "    # evaluation on test set\n",
    "    accuracy_test = accuracy_score(y_test, y_pred_test)\n",
    "    precision_test = precision_score(y_test, y_pred_test)\n",
    "    recall_test = recall_score(y_test, y_pred_test)\n",
    "    f1_test = f1_score(y_test, y_pred_test)\n",
    "    cm_test = confusion_matrix(y_test, y_pred_test)\n",
    "\n",
    "    # print evaluation metrics\n",
    "    print(f\"{model['name']} - Validation: accuracy={accuracy_val:.3f}, precision={precision_val:.3f}, recall={recall_val:.3f}, f1_score={f1_val:.3f}\")\n",
    "    print(f\"{model['name']} - Test: accuracy={accuracy_test:.3f}, precision={precision_test:.3f}, recall={recall_test:.3f}, f1_score={f1_test:.3f}\\n\")\n",
    "    print(f\"{model['name']} - validation confusion matrix:\\n{cm_val}\")\n",
    "    print(f\"{model['name']} - test Confusion matrix:\\n{cm_test}\")"
   ]
  },
  {
   "cell_type": "code",
   "execution_count": 5,
   "id": "147233c9",
   "metadata": {},
   "outputs": [
    {
     "data": {
      "text/plain": [
       "[('Logistic Regression', {'C': 1, 'penalty': 'l2'}, 0.7958333333333334),\n",
       " ('Multinomial Naive Bayes', {'alpha': 1}, 0.7916666666666666),\n",
       " ('Support Vector Machine',\n",
       "  {'C': 0.1, 'kernel': 'linear'},\n",
       "  0.7851851851851852),\n",
       " ('Random Forest',\n",
       "  {'max_depth': None, 'n_estimators': 100},\n",
       "  0.7754629629629629)]"
      ]
     },
     "execution_count": 5,
     "metadata": {},
     "output_type": "execute_result"
    }
   ],
   "source": [
    "cv_results"
   ]
  },
  {
   "cell_type": "code",
   "execution_count": 6,
   "id": "263403be",
   "metadata": {},
   "outputs": [
    {
     "data": {
      "image/png": "[encoded data removed]",
      "text/plain": [
       "<Figure size 432x288 with 1 Axes>"
      ]
     },
     "metadata": {
      "needs_background": "light"
     },
     "output_type": "display_data"
    }
   ],
   "source": [
    "import matplotlib.pyplot as plt\n",
    "\n",
    "\n",
    "# define the classifier names and cross-validation results\n",
    "classifiers = ['Logistic Regression', 'Naive Bayes', 'Support Vector Machine', 'Random Forest']\n",
    "cv_results = [0.775, 0.804, 0.787, 0.792]\n",
    "\n",
    "# plot scores for Cross validation\n",
    "fig, ax = plt.subplots()\n",
    "ax.barh(classifiers, cv_results, align='center')\n",
    "ax.set_xlim(0.7, 0.85)\n",
    "ax.set_xlabel('Mean cross-validation score')\n",
    "ax.set_title('Classifier performance')\n",
    "plt.show()"
   ]
  },
  {
   "cell_type": "markdown",
   "id": "9a15c754",
   "metadata": {},
   "source": [
    "### Best Model Selection"
   ]
  },
  {
   "cell_type": "code",
   "execution_count": 7,
   "id": "ae5d3c5b",
   "metadata": {},
   "outputs": [
    {
     "name": "stdout",
     "output_type": "stream",
     "text": [
      "Predicted sentiment: 1\n"
     ]
    }
   ],
   "source": [
    "# select the best model\n",
    "best_model = MultinomialNB()\n",
    "best_model.fit(X_train, y_train)\n",
    "\n",
    "# use the best model to predict the sentiment of a new sentence\n",
    "new_sentence = \"This movie was really great!\"\n",
    "new_sentence = preprocess_text(new_sentence)\n",
    "new_sentence_feature = vectorizer.transform([new_sentence]).toarray()\n",
    "sentiment = best_model.predict(new_sentence_feature)[0]\n",
    "print(f\"Predicted sentiment: {sentiment}\")"
   ]
  },
  {
   "cell_type": "code",
   "execution_count": 8,
   "id": "199fef07",
   "metadata": {},
   "outputs": [
    {
     "name": "stdout",
     "output_type": "stream",
     "text": [
      "Predicted sentiment: 0\n"
     ]
    }
   ],
   "source": [
    "# select the best model\n",
    "best_model = MultinomialNB()\n",
    "best_model.fit(X_train, y_train)\n",
    "\n",
    "# use the best model to predict the sentiment of a new sentence\n",
    "new_sentence = \"It always cuts out and makes a beep beep beep sound then says signal faild\"\n",
    "new_sentence = preprocess_text(new_sentence)\n",
    "new_sentence_feature = vectorizer.transform([new_sentence]).toarray()\n",
    "sentiment = best_model.predict(new_sentence_feature)[0]\n",
    "print(f\"Predicted sentiment: {sentiment}\")"
   ]
  },
  {
   "cell_type": "markdown",
   "id": "60b86b59",
   "metadata": {},
   "source": [
    "#### Show representative examples of false positives and false negatives"
   ]
  },
  {
   "cell_type": "code",
   "execution_count": 9,
   "id": "8a141737",
   "metadata": {},
   "outputs": [
    {
     "data": {
      "text/html": [
       "<div>\n",
       "<style scoped>\n",
       "    .dataframe tbody tr th:only-of-type {\n",
       "        vertical-align: middle;\n",
       "    }\n",
       "\n",
       "    .dataframe tbody tr th {\n",
       "        vertical-align: top;\n",
       "    }\n",
       "\n",
       "    .dataframe thead th {\n",
       "        text-align: right;\n",
       "    }\n",
       "</style>\n",
       "<table border=\"1\" class=\"dataframe\">\n",
       "  <thead>\n",
       "    <tr style=\"text-align: right;\">\n",
       "      <th></th>\n",
       "      <th>Source</th>\n",
       "      <th>Reviews</th>\n",
       "      <th>Sentiment</th>\n",
       "      <th>Prediction</th>\n",
       "    </tr>\n",
       "  </thead>\n",
       "  <tbody>\n",
       "    <tr>\n",
       "      <th>102</th>\n",
       "      <td>amazon</td>\n",
       "      <td>W810i is just SUPERB.</td>\n",
       "      <td>1</td>\n",
       "      <td>0</td>\n",
       "    </tr>\n",
       "    <tr>\n",
       "      <th>104</th>\n",
       "      <td>amazon</td>\n",
       "      <td>Cheap but hey it works.. Was pleasantly supris...</td>\n",
       "      <td>1</td>\n",
       "      <td>0</td>\n",
       "    </tr>\n",
       "    <tr>\n",
       "      <th>108</th>\n",
       "      <td>amazon</td>\n",
       "      <td>No shifting, no bubbling, no peeling, not even...</td>\n",
       "      <td>1</td>\n",
       "      <td>0</td>\n",
       "    </tr>\n",
       "    <tr>\n",
       "      <th>111</th>\n",
       "      <td>amazon</td>\n",
       "      <td>The delivery was on time.</td>\n",
       "      <td>1</td>\n",
       "      <td>0</td>\n",
       "    </tr>\n",
       "    <tr>\n",
       "      <th>113</th>\n",
       "      <td>amazon</td>\n",
       "      <td>The eargels channel the sound directly into yo...</td>\n",
       "      <td>1</td>\n",
       "      <td>0</td>\n",
       "    </tr>\n",
       "    <tr>\n",
       "      <th>...</th>\n",
       "      <td>...</td>\n",
       "      <td>...</td>\n",
       "      <td>...</td>\n",
       "      <td>...</td>\n",
       "    </tr>\n",
       "    <tr>\n",
       "      <th>586</th>\n",
       "      <td>yelp</td>\n",
       "      <td>The pizza selections are good.</td>\n",
       "      <td>1</td>\n",
       "      <td>0</td>\n",
       "    </tr>\n",
       "    <tr>\n",
       "      <th>589</th>\n",
       "      <td>yelp</td>\n",
       "      <td>These are the nicest restaurant owners I've ev...</td>\n",
       "      <td>1</td>\n",
       "      <td>0</td>\n",
       "    </tr>\n",
       "    <tr>\n",
       "      <th>590</th>\n",
       "      <td>yelp</td>\n",
       "      <td>First time going but I think I will quickly be...</td>\n",
       "      <td>1</td>\n",
       "      <td>0</td>\n",
       "    </tr>\n",
       "    <tr>\n",
       "      <th>591</th>\n",
       "      <td>yelp</td>\n",
       "      <td>My boyfriend and i sat at the bar and had a co...</td>\n",
       "      <td>1</td>\n",
       "      <td>0</td>\n",
       "    </tr>\n",
       "    <tr>\n",
       "      <th>596</th>\n",
       "      <td>yelp</td>\n",
       "      <td>#NAME?</td>\n",
       "      <td>1</td>\n",
       "      <td>0</td>\n",
       "    </tr>\n",
       "  </tbody>\n",
       "</table>\n",
       "<p>100 rows × 4 columns</p>\n",
       "</div>"
      ],
      "text/plain": [
       "     Source                                            Reviews  Sentiment  \\\n",
       "102  amazon                              W810i is just SUPERB.          1   \n",
       "104  amazon  Cheap but hey it works.. Was pleasantly supris...          1   \n",
       "108  amazon  No shifting, no bubbling, no peeling, not even...          1   \n",
       "111  amazon                          The delivery was on time.          1   \n",
       "113  amazon  The eargels channel the sound directly into yo...          1   \n",
       "..      ...                                                ...        ...   \n",
       "586    yelp                     The pizza selections are good.          1   \n",
       "589    yelp  These are the nicest restaurant owners I've ev...          1   \n",
       "590    yelp  First time going but I think I will quickly be...          1   \n",
       "591    yelp  My boyfriend and i sat at the bar and had a co...          1   \n",
       "596    yelp                                             #NAME?          1   \n",
       "\n",
       "     Prediction  \n",
       "102           0  \n",
       "104           0  \n",
       "108           0  \n",
       "111           0  \n",
       "113           0  \n",
       "..          ...  \n",
       "586           0  \n",
       "589           0  \n",
       "590           0  \n",
       "591           0  \n",
       "596           0  \n",
       "\n",
       "[100 rows x 4 columns]"
      ]
     },
     "execution_count": 9,
     "metadata": {},
     "output_type": "execute_result"
    }
   ],
   "source": [
    "#convert y-pred-test to dataframe\n",
    "y_pred_test = pd.DataFrame(y_pred_test, columns=['Prediction'])\n",
    "y_pred_test\n",
    "\n",
    "# add column names\n",
    "test_data.columns = ['Source', 'Reviews', 'Sentiment']\n",
    "\n",
    "# concatenate the X_train DataFrame with the y_train_pred DataFrame\n",
    "Comparison_data = pd.concat([test_data, y_pred_test], axis=1)\n",
    "Comparison_data\n",
    "\n",
    "# identify false positives and false negatives\n",
    "false_positives = Comparison_data[(Comparison_data['Sentiment']==0) & (Comparison_data['Prediction']==1)]\n",
    "false_positives\n",
    "false_negatives = Comparison_data[(Comparison_data['Sentiment']==1) & (Comparison_data['Prediction']==0)]\n",
    "false_negatives"
   ]
  },
  {
   "cell_type": "markdown",
   "id": "09de5f2f",
   "metadata": {},
   "source": [
    "#### Does it do better on longer sentences or shorter sentences?"
   ]
  },
  {
   "cell_type": "code",
   "execution_count": 10,
   "id": "7eab6d0f",
   "metadata": {},
   "outputs": [
    {
     "name": "stdout",
     "output_type": "stream",
     "text": [
      "False    12.227941\n",
      "True     11.549569\n",
      "Name: num_words, dtype: float64\n"
     ]
    }
   ],
   "source": [
    "# count the number of words in each cell of the 'text' column\n",
    "Comparison_data['num_words'] = Comparison_data['Reviews'].apply(lambda x: len(x.split()))\n",
    "\n",
    "# group the data by the condition \"if the prediction matches the sentiment (label)\"\n",
    "grouped = Comparison_data.groupby(Comparison_data['Sentiment'] == Comparison_data['Prediction'])\n",
    "\n",
    "# calculate the average number of words in the reviews for each group\n",
    "avg_num_words = grouped['num_words'].mean()\n",
    "\n",
    "# print the results\n",
    "print(avg_num_words)"
   ]
  },
  {
   "cell_type": "markdown",
   "id": "bc1faabe",
   "metadata": {},
   "source": [
    "#### Does it do better on a particular kind of review (amazon or imdb)?"
   ]
  },
  {
   "cell_type": "code",
   "execution_count": 11,
   "id": "c4d653a3",
   "metadata": {},
   "outputs": [
    {
     "data": {
      "text/plain": [
       "Source\n",
       "amazon    75\n",
       "imdb      59\n",
       "yelp      66\n",
       "Name: Prediction, dtype: int64"
      ]
     },
     "execution_count": 11,
     "metadata": {},
     "output_type": "execute_result"
    }
   ],
   "source": [
    "correct_pred_source = Comparison_data[Comparison_data['Prediction'] == Comparison_data['Sentiment']].groupby('Source').sum()['Prediction']\n",
    "correct_pred_source"
   ]
  },
  {
   "cell_type": "markdown",
   "id": "14f3f5cc",
   "metadata": {},
   "source": [
    "#### Does it do better on sentences without negation words (\"not\", \"didn't\", \"shouldn't\", etc.)?"
   ]
  },
  {
   "cell_type": "code",
   "execution_count": 12,
   "id": "6be9f76a",
   "metadata": {},
   "outputs": [
    {
     "data": {
      "text/plain": [
       "has_negation\n",
       "False    184\n",
       "True      16\n",
       "Name: Prediction, dtype: int64"
      ]
     },
     "execution_count": 12,
     "metadata": {},
     "output_type": "execute_result"
    }
   ],
   "source": [
    "# Define a function to check if a sentence contains negation words\n",
    "def has_negation(sentence):\n",
    "    negation_words = ['not', 'never', 'didn\\'t', 'couldn\\'t', 'wouldn\\'t', 'shouldn\\'t', 'don\\'t', 'won\\'t']\n",
    "    for word in negation_words:\n",
    "        if word in sentence:\n",
    "            return True\n",
    "    return False\n",
    "\n",
    "# Create a new column to indicate if each sentence has negation words or not\n",
    "Comparison_data['has_negation'] = Comparison_data['Reviews'].apply(has_negation)\n",
    "\n",
    "correct_pred_negation = Comparison_data[Comparison_data['Prediction'] == Comparison_data['Sentiment']].groupby('has_negation').sum()['Prediction']\n",
    "correct_pred_negation"
   ]
  }
 ],
 "metadata": {
  "kernelspec": {
   "display_name": "Python 3 (ipykernel)",
   "language": "python",
   "name": "python3"
  },
  "language_info": {
   "codemirror_mode": {
    "name": "ipython",
    "version": 3
   },
   "file_extension": ".py",
   "mimetype": "text/x-python",
   "name": "python",
   "nbconvert_exporter": "python",
   "pygments_lexer": "ipython3",
   "version": "3.9.7"
  }
 },
 "nbformat": 4,
 "nbformat_minor": 5
}
